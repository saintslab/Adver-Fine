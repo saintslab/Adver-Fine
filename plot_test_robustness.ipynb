{
 "cells": [
  {
   "cell_type": "code",
   "execution_count": 1,
   "id": "a5d09fd2-3a6a-478f-bdfd-d9d4511f624a",
   "metadata": {
    "tags": []
   },
   "outputs": [],
   "source": [
    "import pandas as pd\n",
    "import numpy as np\n",
    "import matplotlib.pyplot as plt\n",
    "import matplotlib"
   ]
  },
  {
   "cell_type": "code",
   "execution_count": 2,
   "id": "60a7b9d1-2066-4ffb-bbe7-78a758e26c22",
   "metadata": {
    "tags": []
   },
   "outputs": [
    {
     "data": {
      "text/html": [
       "<div>\n",
       "<style scoped>\n",
       "    .dataframe tbody tr th:only-of-type {\n",
       "        vertical-align: middle;\n",
       "    }\n",
       "\n",
       "    .dataframe tbody tr th {\n",
       "        vertical-align: top;\n",
       "    }\n",
       "\n",
       "    .dataframe thead th {\n",
       "        text-align: right;\n",
       "    }\n",
       "</style>\n",
       "<table border=\"1\" class=\"dataframe\">\n",
       "  <thead>\n",
       "    <tr style=\"text-align: right;\">\n",
       "      <th></th>\n",
       "      <th>model_name</th>\n",
       "      <th>compression_method</th>\n",
       "      <th>sparsity_level</th>\n",
       "      <th>test</th>\n",
       "      <th>robustness</th>\n",
       "    </tr>\n",
       "  </thead>\n",
       "  <tbody>\n",
       "    <tr>\n",
       "      <th>2</th>\n",
       "      <td>normal</td>\n",
       "      <td>ptqRFT</td>\n",
       "      <td>int16</td>\n",
       "      <td>0.8338</td>\n",
       "      <td>0.7718</td>\n",
       "    </tr>\n",
       "    <tr>\n",
       "      <th>5</th>\n",
       "      <td>normal</td>\n",
       "      <td>ptqRFT</td>\n",
       "      <td>int8</td>\n",
       "      <td>0.8438</td>\n",
       "      <td>0.7825</td>\n",
       "    </tr>\n",
       "    <tr>\n",
       "      <th>8</th>\n",
       "      <td>normal</td>\n",
       "      <td>ptqRFT</td>\n",
       "      <td>int4</td>\n",
       "      <td>0.8059</td>\n",
       "      <td>0.8092</td>\n",
       "    </tr>\n",
       "    <tr>\n",
       "      <th>11</th>\n",
       "      <td>normal</td>\n",
       "      <td>ptqRFT</td>\n",
       "      <td>int2</td>\n",
       "      <td>0.1000</td>\n",
       "      <td>0.1000</td>\n",
       "    </tr>\n",
       "    <tr>\n",
       "      <th>14</th>\n",
       "      <td>normal</td>\n",
       "      <td>ptqRFT</td>\n",
       "      <td>int1</td>\n",
       "      <td>0.1000</td>\n",
       "      <td>0.1000</td>\n",
       "    </tr>\n",
       "  </tbody>\n",
       "</table>\n",
       "</div>"
      ],
      "text/plain": [
       "   model_name compression_method sparsity_level    test  robustness\n",
       "2      normal             ptqRFT          int16  0.8338      0.7718\n",
       "5      normal             ptqRFT           int8  0.8438      0.7825\n",
       "8      normal             ptqRFT           int4  0.8059      0.8092\n",
       "11     normal             ptqRFT           int2  0.1000      0.1000\n",
       "14     normal             ptqRFT           int1  0.1000      0.1000"
      ]
     },
     "execution_count": 2,
     "metadata": {},
     "output_type": "execute_result"
    }
   ],
   "source": [
    "df = pd.read_pickle(\"./results.pkl\")\n",
    "df[df['compression_method'] == 'ptqRFT']"
   ]
  },
  {
   "cell_type": "code",
   "execution_count": 3,
   "id": "1eb3c349-74b9-44ab-b84b-586b74dad38f",
   "metadata": {
    "tags": []
   },
   "outputs": [],
   "source": [
    "def cut_int(x):\n",
    "    if type(x) == str:\n",
    "        if x[0:3] == 'int':\n",
    "            x = int(x[3:])\n",
    "        else: x = 0\n",
    "    return x\n",
    "\n",
    "def get_mean_std_columns(df):\n",
    "    df['test_mean'] = df.groupby(['model_name','compression_method','sparsity_level'])[\"test\"].transform('mean')\n",
    "    df['robustness_mean'] = df.groupby(['model_name','compression_method','sparsity_level'])[\"robustness\"].transform('mean')\n",
    "    df['test_std'] = df.groupby(['model_name','compression_method','sparsity_level'])[\"test\"].transform('std')\n",
    "    df['robustness_std'] = df.groupby(['model_name','compression_method','sparsity_level'])[\"robustness\"].transform('std')\n",
    "    df['int_sort'] = df[\"sparsity_level\"].map(lambda x: cut_int(x))\n",
    "    return df"
   ]
  },
  {
   "cell_type": "code",
   "execution_count": 4,
   "id": "41271191-a5f1-4940-aa7c-9b99c246426c",
   "metadata": {},
   "outputs": [],
   "source": [
    "def plot_levels(df,standard_model,adversarial_model,plotname):\n",
    "    fig, ax = plt.subplots(figsize=(8,6))\n",
    "    #capsize for errorbars\n",
    "    csi = 5.0\n",
    "    models = [standard_model, adversarial_model]\n",
    "    \n",
    "    params = {'font.size': 14,\n",
    "          'axes.labelsize':14,\n",
    "          'axes.titlesize':14,\n",
    "          'axes.titleweight':'bold',\n",
    "          'legend.fontsize': 14,\n",
    "         }\n",
    "    colors = ['blue','green','orange','red']\n",
    "    \n",
    "    df = df.sort_values(\"int_sort\",ascending=False)\n",
    "    \n",
    "    label_count=0\n",
    "    label_names = ['standard(test)','standard(robustness)','adversarial(test)','adversarial(robustness)']\n",
    "    \n",
    "    for model in models:\n",
    "        model_name = model[0]\n",
    "        compression_method = model[1]\n",
    "        for measurement in ['test','robustness']:\n",
    "            df_i = df\n",
    "            df_i = df_i.loc[df_i['model_name'] == model_name]\n",
    "            df_i = df_i.loc[df_i['compression_method'] == compression_method]\n",
    "            \n",
    "            mean = df_i[measurement+\"_mean\"].values\n",
    "            std = df_i[measurement+\"_std\"].values\n",
    "            ax.plot(df_i['sparsity_level'].values, mean, label=label_names[label_count], color=colors[label_count], linestyle='-', marker='o')\n",
    "            ax.errorbar(df_i['sparsity_level'].values, mean, std, color=colors[label_count], linestyle='None',  marker='None',capsize=csi)\n",
    "            label_count += 1\n",
    "    \n",
    "    ax.set_xlabel('Sparsity')\n",
    "    ax.set_ylabel('Accuracy')\n",
    "    #ax.set_title('Error/Adv. Error vs Sparsity')\n",
    "    ax.legend()\n",
    "    matplotlib.rcParams.update(params)\n",
    "    ax.grid()\n",
    "    plt.savefig(plotname,bbox_inches='tight')\n",
    "    plt.show()"
   ]
  },
  {
   "cell_type": "code",
   "execution_count": 6,
   "id": "a30591a0-54fb-4b13-aebf-f5f2ae8cdd1b",
   "metadata": {
    "tags": []
   },
   "outputs": [
    {
     "name": "stderr",
     "output_type": "stream",
     "text": [
      "/Users/valdemarjacobihenriksen/anaconda3/envs/bachenv/lib/python3.11/site-packages/matplotlib/axes/_base.py:2503: UserWarning: Warning: converting a masked element to nan.\n",
      "  xys = np.asarray(xys)\n"
     ]
    },
    {
     "data": {
      "image/png": "[encoded data removed]",
      "text/plain": [
       "<Figure size 800x600 with 1 Axes>"
      ]
     },
     "metadata": {},
     "output_type": "display_data"
    }
   ],
   "source": [
    "df = get_mean_std_columns(df)\n",
    "plot_levels(df,['normal','ptq'],['normal','ptqRFT'],'ptqRFT_sparsity_plot')"
   ]
  },
  {
   "cell_type": "markdown",
   "id": "95db1302-37b3-458d-92ab-712c8ada7415",
   "metadata": {},
   "source": [
    "### test data... "
   ]
  },
  {
   "cell_type": "markdown",
   "id": "103cd8e4-f181-4110-941f-1cec6aaf5b27",
   "metadata": {
    "tags": []
   },
   "source": [
    "#model_name = \"normal_model\"\n",
    "df_dict = {'model_name':[],'compression_method':[],'sparsity_level':[],'test':[],'robustness':[]}\n",
    "runs = ['normal','normal','normal','robust','robust','robust']\n",
    "qmethods = ['ptq','ptqRFT','ptqNFT']\n",
    "qlevels = ['int16','int8','int4','int2','int1']\n",
    "i = 0\n",
    "for run in runs:\n",
    "    i += 1\n",
    "    for qm in qmethods:\n",
    "        for ql in qlevels:\n",
    "            df_dict['model_name'].append(run)\n",
    "            df_dict['compression_method'].append(qm)\n",
    "            df_dict['sparsity_level'].append(ql)\n",
    "            if i < 4:\n",
    "                df_dict['test'].append(np.random.uniform(0.7,0.9))\n",
    "                df_dict['robustness'].append(np.random.uniform(0.6,0.7))\n",
    "            else:\n",
    "                df_dict['test'].append(np.random.uniform(0.65,0.8))\n",
    "                df_dict['robustness'].append(np.random.uniform(0.65,0.78))\n",
    "df = pd.DataFrame(df_dict)\n",
    "df.to_pickle(f'./dummy.pkl')\n",
    "df2 = pd.read_pickle(\"./dummy.pkl\")\n",
    "df2"
   ]
  }
 ],
 "metadata": {
  "kernelspec": {
   "display_name": "Python [conda env:bachenv]",
   "language": "python",
   "name": "conda-env-bachenv-py"
  },
  "language_info": {
   "codemirror_mode": {
    "name": "ipython",
    "version": 3
   },
   "file_extension": ".py",
   "mimetype": "text/x-python",
   "name": "python",
   "nbconvert_exporter": "python",
   "pygments_lexer": "ipython3",
   "version": "3.11.4"
  }
 },
 "nbformat": 4,
 "nbformat_minor": 5
}
